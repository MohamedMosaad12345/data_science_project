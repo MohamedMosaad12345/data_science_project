{
 "cells": [
  {
   "cell_type": "code",
   "execution_count": 20,
   "metadata": {},
   "outputs": [],
   "source": [
    "DATA_PATH=r'..\\data\\raw\\survey_results_public.csv'"
   ]
  },
  {
   "cell_type": "code",
   "execution_count": 21,
   "metadata": {},
   "outputs": [],
   "source": [
    "import numpy as np\n",
    "import pandas as pd"
   ]
  },
  {
   "cell_type": "code",
   "execution_count": 22,
   "metadata": {},
   "outputs": [
    {
     "data": {
      "text/plain": [
       "(83439, 48)"
      ]
     },
     "execution_count": 22,
     "metadata": {},
     "output_type": "execute_result"
    }
   ],
   "source": [
    "raw_df=pd.read_csv(DATA_PATH)\n",
    "raw_df.shape\n"
   ]
  },
  {
   "cell_type": "code",
   "execution_count": 36,
   "metadata": {},
   "outputs": [
    {
     "data": {
      "text/plain": [
       "ResponseId                                                                  30570\n",
       "MainBranch                                         I am a developer by profession\n",
       "Employment                                                     Employed full-time\n",
       "Country                                                  United States of America\n",
       "US_State                                                               Washington\n",
       "UK_Country                                                                    NaN\n",
       "EdLevel                              Bachelor’s degree (B.A., B.S., B.Eng., etc.)\n",
       "Age1stCode                                                          25 - 34 years\n",
       "LearnCode                       Other online resources (ex: videos, blogs, etc...\n",
       "YearsCode                                                                      10\n",
       "YearsCodePro                                                                    3\n",
       "DevType                         Developer, front-end;Developer, desktop or ent...\n",
       "OrgSize                                                  10,000 or more employees\n",
       "Currency                                                USD\\tUnited States dollar\n",
       "CompTotal                                                                140000.0\n",
       "CompFreq                                                                   Weekly\n",
       "LanguageHaveWorkedWith                  C;C#;C++;HTML/CSS;JavaScript;Node.js;Rust\n",
       "LanguageWantToWorkWith                                            Rust;TypeScript\n",
       "DatabaseHaveWorkedWith                                              MongoDB;MySQL\n",
       "DatabaseWantToWorkWith                                                        NaN\n",
       "PlatformHaveWorkedWith                                                        NaN\n",
       "PlatformWantToWorkWith                                                        NaN\n",
       "WebframeHaveWorkedWith                        ASP.NET;ASP.NET Core ;jQuery;Vue.js\n",
       "WebframeWantToWorkWith                                                     Vue.js\n",
       "MiscTechHaveWorkedWith                          .NET Framework;.NET Core / .NET 5\n",
       "MiscTechWantToWorkWith                                                        NaN\n",
       "ToolsTechHaveWorkedWith                                           Docker;Git;Yarn\n",
       "ToolsTechWantToWorkWith                                             Deno;Git;Yarn\n",
       "NEWCollabToolsHaveWorkedWith           Notepad++;Visual Studio;Visual Studio Code\n",
       "NEWCollabToolsWantToWorkWith           Notepad++;Visual Studio;Visual Studio Code\n",
       "OpSys                                                                     Windows\n",
       "NEWStuck                        Visit Stack Overflow;Google it;Watch help / tu...\n",
       "NEWSOSites                                          Stack Overflow;Stack Exchange\n",
       "SOVisitFreq                                                Multiple times per day\n",
       "SOAccount                                                                     Yes\n",
       "SOPartFreq                                    Less than once per month or monthly\n",
       "SOComm                                                             No, not really\n",
       "NEWOtherComms                                                                  No\n",
       "Age                                                               35-44 years old\n",
       "Gender                                                          Prefer not to say\n",
       "Trans                                                           Prefer not to say\n",
       "Sexuality                                                       Prefer not to say\n",
       "Ethnicity                                                       Prefer not to say\n",
       "Accessibility                                                   Prefer not to say\n",
       "MentalHealth                                                    Prefer not to say\n",
       "SurveyLength                                                Appropriate in length\n",
       "SurveyEase                                                                   Easy\n",
       "ConvertedCompYearly                                                     7000000.0\n",
       "Name: 30569, dtype: object"
      ]
     },
     "execution_count": 36,
     "metadata": {},
     "output_type": "execute_result"
    }
   ],
   "source": [
    "raw_df.sample(1).iloc[0]\n"
   ]
  },
  {
   "cell_type": "code",
   "execution_count": 24,
   "metadata": {},
   "outputs": [
    {
     "name": "stdout",
     "output_type": "stream",
     "text": [
      "<class 'pandas.core.frame.DataFrame'>\n",
      "RangeIndex: 83439 entries, 0 to 83438\n",
      "Data columns (total 48 columns):\n",
      " #   Column                        Non-Null Count  Dtype  \n",
      "---  ------                        --------------  -----  \n",
      " 0   ResponseId                    83439 non-null  int64  \n",
      " 1   MainBranch                    83439 non-null  object \n",
      " 2   Employment                    83323 non-null  object \n",
      " 3   Country                       83439 non-null  object \n",
      " 4   US_State                      14920 non-null  object \n",
      " 5   UK_Country                    4418 non-null   object \n",
      " 6   EdLevel                       83126 non-null  object \n",
      " 7   Age1stCode                    83243 non-null  object \n",
      " 8   LearnCode                     82963 non-null  object \n",
      " 9   YearsCode                     81641 non-null  object \n",
      " 10  YearsCodePro                  61216 non-null  object \n",
      " 11  DevType                       66484 non-null  object \n",
      " 12  OrgSize                       60726 non-null  object \n",
      " 13  Currency                      61080 non-null  object \n",
      " 14  CompTotal                     47183 non-null  float64\n",
      " 15  CompFreq                      52150 non-null  object \n",
      " 16  LanguageHaveWorkedWith        82357 non-null  object \n",
      " 17  LanguageWantToWorkWith        76821 non-null  object \n",
      " 18  DatabaseHaveWorkedWith        69546 non-null  object \n",
      " 19  DatabaseWantToWorkWith        58299 non-null  object \n",
      " 20  PlatformHaveWorkedWith        52135 non-null  object \n",
      " 21  PlatformWantToWorkWith        41619 non-null  object \n",
      " 22  WebframeHaveWorkedWith        61707 non-null  object \n",
      " 23  WebframeWantToWorkWith        52095 non-null  object \n",
      " 24  MiscTechHaveWorkedWith        47055 non-null  object \n",
      " 25  MiscTechWantToWorkWith        38021 non-null  object \n",
      " 26  ToolsTechHaveWorkedWith       72537 non-null  object \n",
      " 27  ToolsTechWantToWorkWith       65480 non-null  object \n",
      " 28  NEWCollabToolsHaveWorkedWith  81234 non-null  object \n",
      " 29  NEWCollabToolsWantToWorkWith  73022 non-null  object \n",
      " 30  OpSys                         83294 non-null  object \n",
      " 31  NEWStuck                      83052 non-null  object \n",
      " 32  NEWSOSites                    83171 non-null  object \n",
      " 33  SOVisitFreq                   82413 non-null  object \n",
      " 34  SOAccount                     82525 non-null  object \n",
      " 35  SOPartFreq                    67553 non-null  object \n",
      " 36  SOComm                        82319 non-null  object \n",
      " 37  NEWOtherComms                 82828 non-null  object \n",
      " 38  Age                           82407 non-null  object \n",
      " 39  Gender                        82286 non-null  object \n",
      " 40  Trans                         80678 non-null  object \n",
      " 41  Sexuality                     73366 non-null  object \n",
      " 42  Ethnicity                     79464 non-null  object \n",
      " 43  Accessibility                 77603 non-null  object \n",
      " 44  MentalHealth                  76920 non-null  object \n",
      " 45  SurveyLength                  81711 non-null  object \n",
      " 46  SurveyEase                    81948 non-null  object \n",
      " 47  ConvertedCompYearly           46844 non-null  float64\n",
      "dtypes: float64(2), int64(1), object(45)\n",
      "memory usage: 30.6+ MB\n"
     ]
    }
   ],
   "source": [
    "raw_df.info()"
   ]
  },
  {
   "cell_type": "code",
   "execution_count": 27,
   "metadata": {},
   "outputs": [
    {
     "data": {
      "text/html": [
       "<div>\n",
       "<style scoped>\n",
       "    .dataframe tbody tr th:only-of-type {\n",
       "        vertical-align: middle;\n",
       "    }\n",
       "\n",
       "    .dataframe tbody tr th {\n",
       "        vertical-align: top;\n",
       "    }\n",
       "\n",
       "    .dataframe thead th {\n",
       "        text-align: right;\n",
       "    }\n",
       "</style>\n",
       "<table border=\"1\" class=\"dataframe\">\n",
       "  <thead>\n",
       "    <tr style=\"text-align: right;\">\n",
       "      <th></th>\n",
       "      <th>ResponseId</th>\n",
       "      <th>CompTotal</th>\n",
       "      <th>ConvertedCompYearly</th>\n",
       "    </tr>\n",
       "  </thead>\n",
       "  <tbody>\n",
       "    <tr>\n",
       "      <th>count</th>\n",
       "      <td>83439.000000</td>\n",
       "      <td>4.718300e+04</td>\n",
       "      <td>4.684400e+04</td>\n",
       "    </tr>\n",
       "    <tr>\n",
       "      <th>mean</th>\n",
       "      <td>41720.000000</td>\n",
       "      <td>2.119407e+69</td>\n",
       "      <td>1.184262e+05</td>\n",
       "    </tr>\n",
       "    <tr>\n",
       "      <th>std</th>\n",
       "      <td>24086.908893</td>\n",
       "      <td>4.603702e+71</td>\n",
       "      <td>5.272944e+05</td>\n",
       "    </tr>\n",
       "    <tr>\n",
       "      <th>min</th>\n",
       "      <td>1.000000</td>\n",
       "      <td>0.000000e+00</td>\n",
       "      <td>1.000000e+00</td>\n",
       "    </tr>\n",
       "    <tr>\n",
       "      <th>25%</th>\n",
       "      <td>20860.500000</td>\n",
       "      <td>1.600000e+04</td>\n",
       "      <td>2.702500e+04</td>\n",
       "    </tr>\n",
       "    <tr>\n",
       "      <th>50%</th>\n",
       "      <td>41720.000000</td>\n",
       "      <td>6.700000e+04</td>\n",
       "      <td>5.621100e+04</td>\n",
       "    </tr>\n",
       "    <tr>\n",
       "      <th>75%</th>\n",
       "      <td>62579.500000</td>\n",
       "      <td>1.400000e+05</td>\n",
       "      <td>1.000000e+05</td>\n",
       "    </tr>\n",
       "    <tr>\n",
       "      <th>max</th>\n",
       "      <td>83439.000000</td>\n",
       "      <td>1.000000e+74</td>\n",
       "      <td>4.524131e+07</td>\n",
       "    </tr>\n",
       "  </tbody>\n",
       "</table>\n",
       "</div>"
      ],
      "text/plain": [
       "         ResponseId     CompTotal  ConvertedCompYearly\n",
       "count  83439.000000  4.718300e+04         4.684400e+04\n",
       "mean   41720.000000  2.119407e+69         1.184262e+05\n",
       "std    24086.908893  4.603702e+71         5.272944e+05\n",
       "min        1.000000  0.000000e+00         1.000000e+00\n",
       "25%    20860.500000  1.600000e+04         2.702500e+04\n",
       "50%    41720.000000  6.700000e+04         5.621100e+04\n",
       "75%    62579.500000  1.400000e+05         1.000000e+05\n",
       "max    83439.000000  1.000000e+74         4.524131e+07"
      ]
     },
     "execution_count": 27,
     "metadata": {},
     "output_type": "execute_result"
    }
   ],
   "source": [
    "raw_df.describe()"
   ]
  },
  {
   "cell_type": "code",
   "execution_count": 32,
   "metadata": {},
   "outputs": [
    {
     "name": "stdout",
     "output_type": "stream",
     "text": [
      "YearsCode\n",
      "[nan '7' '17' '3' '4' '6' '16' '12' '15' '10' '40' '9' '26' '14' '39' '20'\n",
      " '8' '19' '5' 'Less than 1 year' '22' '2' '1' '34' '21' '13' '25' '24'\n",
      " '30' '31' '18' '38' 'More than 50 years' '27' '41' '42' '35' '23' '28'\n",
      " '11' '37' '44' '43' '36' '33' '45' '29' '50' '46' '32' '47' '49' '48']\n",
      "----------------------------------------\n",
      "YearsCodePro\n",
      "[nan '10' '4' '5' '6' '2' '30' '9' '18' '12' '21' '1' '16'\n",
      " 'Less than 1 year' '15' '3' '35' '7' '8' '17' '14' '26' '25' '20' '50'\n",
      " '34' '11' '24' '22' '13' '31' '23' '39' '41' '27' '28' '19' '33'\n",
      " 'More than 50 years' '37' '29' '32' '43' '40' '38' '45' '42' '46' '36'\n",
      " '44' '47' '48' '49']\n",
      "----------------------------------------\n",
      "Age\n",
      "['25-34 years old' '18-24 years old' '35-44 years old' 'Prefer not to say'\n",
      " '45-54 years old' 'Under 18 years old' '65 years or older'\n",
      " '55-64 years old' nan]\n",
      "----------------------------------------\n"
     ]
    }
   ],
   "source": [
    "questionaple_coulmns=['YearsCode','YearsCodePro','Age']\n",
    "for col in questionaple_coulmns:\n",
    "    print(col)\n",
    "    print(raw_df[col].unique())\n",
    "    print('-'*40)"
   ]
  },
  {
   "cell_type": "code",
   "execution_count": 25,
   "metadata": {},
   "outputs": [
    {
     "data": {
      "text/plain": [
       "ResponseId                          0\n",
       "MainBranch                          0\n",
       "Employment                        116\n",
       "Country                             0\n",
       "US_State                        68519\n",
       "UK_Country                      79021\n",
       "EdLevel                           313\n",
       "Age1stCode                        196\n",
       "LearnCode                         476\n",
       "YearsCode                        1798\n",
       "YearsCodePro                    22223\n",
       "DevType                         16955\n",
       "OrgSize                         22713\n",
       "Currency                        22359\n",
       "CompTotal                       36256\n",
       "CompFreq                        31289\n",
       "LanguageHaveWorkedWith           1082\n",
       "LanguageWantToWorkWith           6618\n",
       "DatabaseHaveWorkedWith          13893\n",
       "DatabaseWantToWorkWith          25140\n",
       "PlatformHaveWorkedWith          31304\n",
       "PlatformWantToWorkWith          41820\n",
       "WebframeHaveWorkedWith          21732\n",
       "WebframeWantToWorkWith          31344\n",
       "MiscTechHaveWorkedWith          36384\n",
       "MiscTechWantToWorkWith          45418\n",
       "ToolsTechHaveWorkedWith         10902\n",
       "ToolsTechWantToWorkWith         17959\n",
       "NEWCollabToolsHaveWorkedWith     2205\n",
       "NEWCollabToolsWantToWorkWith    10417\n",
       "OpSys                             145\n",
       "NEWStuck                          387\n",
       "NEWSOSites                        268\n",
       "SOVisitFreq                      1026\n",
       "SOAccount                         914\n",
       "SOPartFreq                      15886\n",
       "SOComm                           1120\n",
       "NEWOtherComms                     611\n",
       "Age                              1032\n",
       "Gender                           1153\n",
       "Trans                            2761\n",
       "Sexuality                       10073\n",
       "Ethnicity                        3975\n",
       "Accessibility                    5836\n",
       "MentalHealth                     6519\n",
       "SurveyLength                     1728\n",
       "SurveyEase                       1491\n",
       "ConvertedCompYearly             36595\n",
       "dtype: int64"
      ]
     },
     "execution_count": 25,
     "metadata": {},
     "output_type": "execute_result"
    }
   ],
   "source": [
    "raw_df.isnull().sum()"
   ]
  },
  {
   "cell_type": "code",
   "execution_count": 26,
   "metadata": {},
   "outputs": [
    {
     "data": {
      "text/html": [
       "<div>\n",
       "<style scoped>\n",
       "    .dataframe tbody tr th:only-of-type {\n",
       "        vertical-align: middle;\n",
       "    }\n",
       "\n",
       "    .dataframe tbody tr th {\n",
       "        vertical-align: top;\n",
       "    }\n",
       "\n",
       "    .dataframe thead th {\n",
       "        text-align: right;\n",
       "    }\n",
       "</style>\n",
       "<table border=\"1\" class=\"dataframe\">\n",
       "  <thead>\n",
       "    <tr style=\"text-align: right;\">\n",
       "      <th></th>\n",
       "      <th>ResponseId</th>\n",
       "      <th>CompTotal</th>\n",
       "      <th>ConvertedCompYearly</th>\n",
       "    </tr>\n",
       "  </thead>\n",
       "  <tbody>\n",
       "    <tr>\n",
       "      <th>count</th>\n",
       "      <td>83439.000000</td>\n",
       "      <td>4.718300e+04</td>\n",
       "      <td>4.684400e+04</td>\n",
       "    </tr>\n",
       "    <tr>\n",
       "      <th>mean</th>\n",
       "      <td>41720.000000</td>\n",
       "      <td>2.119407e+69</td>\n",
       "      <td>1.184262e+05</td>\n",
       "    </tr>\n",
       "    <tr>\n",
       "      <th>std</th>\n",
       "      <td>24086.908893</td>\n",
       "      <td>4.603702e+71</td>\n",
       "      <td>5.272944e+05</td>\n",
       "    </tr>\n",
       "    <tr>\n",
       "      <th>min</th>\n",
       "      <td>1.000000</td>\n",
       "      <td>0.000000e+00</td>\n",
       "      <td>1.000000e+00</td>\n",
       "    </tr>\n",
       "    <tr>\n",
       "      <th>25%</th>\n",
       "      <td>20860.500000</td>\n",
       "      <td>1.600000e+04</td>\n",
       "      <td>2.702500e+04</td>\n",
       "    </tr>\n",
       "    <tr>\n",
       "      <th>50%</th>\n",
       "      <td>41720.000000</td>\n",
       "      <td>6.700000e+04</td>\n",
       "      <td>5.621100e+04</td>\n",
       "    </tr>\n",
       "    <tr>\n",
       "      <th>75%</th>\n",
       "      <td>62579.500000</td>\n",
       "      <td>1.400000e+05</td>\n",
       "      <td>1.000000e+05</td>\n",
       "    </tr>\n",
       "    <tr>\n",
       "      <th>max</th>\n",
       "      <td>83439.000000</td>\n",
       "      <td>1.000000e+74</td>\n",
       "      <td>4.524131e+07</td>\n",
       "    </tr>\n",
       "  </tbody>\n",
       "</table>\n",
       "</div>"
      ],
      "text/plain": [
       "         ResponseId     CompTotal  ConvertedCompYearly\n",
       "count  83439.000000  4.718300e+04         4.684400e+04\n",
       "mean   41720.000000  2.119407e+69         1.184262e+05\n",
       "std    24086.908893  4.603702e+71         5.272944e+05\n",
       "min        1.000000  0.000000e+00         1.000000e+00\n",
       "25%    20860.500000  1.600000e+04         2.702500e+04\n",
       "50%    41720.000000  6.700000e+04         5.621100e+04\n",
       "75%    62579.500000  1.400000e+05         1.000000e+05\n",
       "max    83439.000000  1.000000e+74         4.524131e+07"
      ]
     },
     "execution_count": 26,
     "metadata": {},
     "output_type": "execute_result"
    }
   ],
   "source": [
    "raw_df.describe()"
   ]
  },
  {
   "cell_type": "code",
   "execution_count": null,
   "metadata": {},
   "outputs": [],
   "source": []
  }
 ],
 "metadata": {
  "kernelspec": {
   "display_name": "base",
   "language": "python",
   "name": "python3"
  },
  "language_info": {
   "codemirror_mode": {
    "name": "ipython",
    "version": 3
   },
   "file_extension": ".py",
   "mimetype": "text/x-python",
   "name": "python",
   "nbconvert_exporter": "python",
   "pygments_lexer": "ipython3",
   "version": "3.11.5"
  }
 },
 "nbformat": 4,
 "nbformat_minor": 2
}
