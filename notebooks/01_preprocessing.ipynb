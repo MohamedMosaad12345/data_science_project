{
 "cells": [
  {
   "cell_type": "code",
   "execution_count": 118,
   "metadata": {},
   "outputs": [],
   "source": [
    "DATA_PATH=r'..\\data\\raw\\survey_results_public.csv'"
   ]
  },
  {
   "cell_type": "code",
   "execution_count": 119,
   "metadata": {},
   "outputs": [],
   "source": [
    "import numpy as np\n",
    "import pandas as pd\n",
    "import matplotlib.pyplot as plt\n",
    "import logging\n",
    "import pickle \n"
   ]
  },
  {
   "cell_type": "code",
   "execution_count": 120,
   "metadata": {},
   "outputs": [],
   "source": [
    "REPLACE_DICT={\n",
    "    'YearsCodePro':{'Less than 1 year':0,\n",
    "                    'More than 50 years':51},\n",
    "    'YearsCode':{'Less than 1 year':0,\n",
    "                 'More than 50 years':51}               \n",
    "}"
   ]
  },
  {
   "cell_type": "code",
   "execution_count": 121,
   "metadata": {},
   "outputs": [],
   "source": [
    "raw_df=pd.read_csv(DATA_PATH)\n",
    "df=raw_df.copy()"
   ]
  },
  {
   "cell_type": "markdown",
   "metadata": {},
   "source": [
    "Preprocessing\n"
   ]
  },
  {
   "cell_type": "code",
   "execution_count": 175,
   "metadata": {},
   "outputs": [],
   "source": [
    "#process yearscode and yearscodepro to be float instead of object\n",
    "for coulmn,replacement in REPLACE_DICT.items():\n",
    "    df[coulmn]=df[coulmn].replace(replacement).astype(np.float32)"
   ]
  },
  {
   "cell_type": "code",
   "execution_count": 176,
   "metadata": {},
   "outputs": [
    {
     "data": {
      "text/html": [
       "<div>\n",
       "<style scoped>\n",
       "    .dataframe tbody tr th:only-of-type {\n",
       "        vertical-align: middle;\n",
       "    }\n",
       "\n",
       "    .dataframe tbody tr th {\n",
       "        vertical-align: top;\n",
       "    }\n",
       "\n",
       "    .dataframe thead th {\n",
       "        text-align: right;\n",
       "    }\n",
       "</style>\n",
       "<table border=\"1\" class=\"dataframe\">\n",
       "  <thead>\n",
       "    <tr style=\"text-align: right;\">\n",
       "      <th></th>\n",
       "      <th>ResponseId</th>\n",
       "      <th>YearsCode</th>\n",
       "      <th>YearsCodePro</th>\n",
       "      <th>CompTotal</th>\n",
       "      <th>ConvertedCompYearly</th>\n",
       "    </tr>\n",
       "  </thead>\n",
       "  <tbody>\n",
       "    <tr>\n",
       "      <th>count</th>\n",
       "      <td>83439.000000</td>\n",
       "      <td>81641.000000</td>\n",
       "      <td>61216.000000</td>\n",
       "      <td>4.718300e+04</td>\n",
       "      <td>4.684400e+04</td>\n",
       "    </tr>\n",
       "    <tr>\n",
       "      <th>mean</th>\n",
       "      <td>41720.000000</td>\n",
       "      <td>12.338201</td>\n",
       "      <td>9.184299</td>\n",
       "      <td>2.119407e+69</td>\n",
       "      <td>1.184262e+05</td>\n",
       "    </tr>\n",
       "    <tr>\n",
       "      <th>std</th>\n",
       "      <td>24086.908893</td>\n",
       "      <td>9.832967</td>\n",
       "      <td>8.265395</td>\n",
       "      <td>4.603702e+71</td>\n",
       "      <td>5.272944e+05</td>\n",
       "    </tr>\n",
       "    <tr>\n",
       "      <th>min</th>\n",
       "      <td>1.000000</td>\n",
       "      <td>0.000000</td>\n",
       "      <td>0.000000</td>\n",
       "      <td>0.000000e+00</td>\n",
       "      <td>1.000000e+00</td>\n",
       "    </tr>\n",
       "    <tr>\n",
       "      <th>25%</th>\n",
       "      <td>20860.500000</td>\n",
       "      <td>5.000000</td>\n",
       "      <td>3.000000</td>\n",
       "      <td>1.600000e+04</td>\n",
       "      <td>2.702500e+04</td>\n",
       "    </tr>\n",
       "    <tr>\n",
       "      <th>50%</th>\n",
       "      <td>41720.000000</td>\n",
       "      <td>10.000000</td>\n",
       "      <td>6.000000</td>\n",
       "      <td>6.700000e+04</td>\n",
       "      <td>5.621100e+04</td>\n",
       "    </tr>\n",
       "    <tr>\n",
       "      <th>75%</th>\n",
       "      <td>62579.500000</td>\n",
       "      <td>17.000000</td>\n",
       "      <td>13.000000</td>\n",
       "      <td>1.400000e+05</td>\n",
       "      <td>1.000000e+05</td>\n",
       "    </tr>\n",
       "    <tr>\n",
       "      <th>max</th>\n",
       "      <td>83439.000000</td>\n",
       "      <td>51.000000</td>\n",
       "      <td>51.000000</td>\n",
       "      <td>1.000000e+74</td>\n",
       "      <td>4.524131e+07</td>\n",
       "    </tr>\n",
       "  </tbody>\n",
       "</table>\n",
       "</div>"
      ],
      "text/plain": [
       "         ResponseId     YearsCode  YearsCodePro     CompTotal  \\\n",
       "count  83439.000000  81641.000000  61216.000000  4.718300e+04   \n",
       "mean   41720.000000     12.338201      9.184299  2.119407e+69   \n",
       "std    24086.908893      9.832967      8.265395  4.603702e+71   \n",
       "min        1.000000      0.000000      0.000000  0.000000e+00   \n",
       "25%    20860.500000      5.000000      3.000000  1.600000e+04   \n",
       "50%    41720.000000     10.000000      6.000000  6.700000e+04   \n",
       "75%    62579.500000     17.000000     13.000000  1.400000e+05   \n",
       "max    83439.000000     51.000000     51.000000  1.000000e+74   \n",
       "\n",
       "       ConvertedCompYearly  \n",
       "count         4.684400e+04  \n",
       "mean          1.184262e+05  \n",
       "std           5.272944e+05  \n",
       "min           1.000000e+00  \n",
       "25%           2.702500e+04  \n",
       "50%           5.621100e+04  \n",
       "75%           1.000000e+05  \n",
       "max           4.524131e+07  "
      ]
     },
     "execution_count": 176,
     "metadata": {},
     "output_type": "execute_result"
    }
   ],
   "source": [
    "df.describe()"
   ]
  },
  {
   "cell_type": "code",
   "execution_count": 199,
   "metadata": {},
   "outputs": [],
   "source": [
    "def split_answers(data_series,delimeter=';'):\n",
    "    \"\"\"this fun take each coulmn name and return \n",
    "    the data frame which contain more than one value in string\n",
    "    like list \n",
    "    \"\"\"\n",
    "    def issplittable(pd_series,delimeter):\n",
    "        return pd_series.str.contains(delimeter)\n",
    "    def split_answer(pd_series,delimeter):\n",
    "        return pd_series.str.split(delimeter) \n",
    "    if not issplittable(data_series,delimeter).any():\n",
    "        return data_series\n",
    "    modified_series=split_answer(data_series,delimeter)\n",
    "    #replace nulls with empty list \n",
    "    nulls=modified_series.isnull()\n",
    "    modified_series.loc[nulls]=modified_series.loc[nulls].apply(lambda x:[])\n",
    "    return modified_series\n"
   ]
  },
  {
   "cell_type": "code",
   "execution_count": 200,
   "metadata": {},
   "outputs": [],
   "source": [
    "object_coulmns=df.select_dtypes('object').columns.to_list()\n",
    "for coulmn in object_coulmns:\n",
    "    df[coulmn]=split_answers(df[coulmn])\n"
   ]
  },
  {
   "cell_type": "code",
   "execution_count": 211,
   "metadata": {},
   "outputs": [
    {
     "name": "stdout",
     "output_type": "stream",
     "text": [
      "3\n",
      "nan\n",
      "----------------------------------------\n",
      "40\n",
      "15.0\n",
      "----------------------------------------\n"
     ]
    }
   ],
   "source": [
    "# df.sample(1).iloc[0]['YearsCode']\n",
    "for i in REPLACE_DICT:\n",
    "    print(raw_df.sample(1).iloc[0][i])\n",
    "    print(df.sample(1).iloc[0][i])\n",
    "    print(\"-\"*40)"
   ]
  },
  {
   "cell_type": "code",
   "execution_count": 241,
   "metadata": {},
   "outputs": [
    {
     "name": "stdout",
     "output_type": "stream",
     "text": [
      "nan\n",
      "[]\n"
     ]
    }
   ],
   "source": [
    "i=df.sample(1).index[0]\n",
    "print(raw_df[\"LanguageHaveWorkedWith\"].iloc[i])\n",
    "print(df[\"LanguageHaveWorkedWith\"].iloc[i])"
   ]
  },
  {
   "cell_type": "code",
   "execution_count": 247,
   "metadata": {},
   "outputs": [
    {
     "data": {
      "text/plain": [
       "ResponseId                                                                   7890\n",
       "MainBranch                      I am not primarily a developer, but I write co...\n",
       "Employment                                                     Employed full-time\n",
       "Country                                                                   Belgium\n",
       "US_State                                                                      NaN\n",
       "UK_Country                                                                    NaN\n",
       "EdLevel                           Master’s degree (M.A., M.S., M.Eng., MBA, etc.)\n",
       "Age1stCode                                                          11 - 17 years\n",
       "LearnCode                       [Other online resources (ex: videos, blogs, et...\n",
       "YearsCode                                                                    13.0\n",
       "YearsCodePro                                                                  6.0\n",
       "DevType                         [Data scientist or machine learning specialist...\n",
       "OrgSize                                                          2 to 9 employees\n",
       "Currency                                                        EUR European Euro\n",
       "CompTotal                                                                 65000.0\n",
       "CompFreq                                                                   Yearly\n",
       "LanguageHaveWorkedWith          [Bash/Shell, HTML/CSS, JavaScript, Node.js, Po...\n",
       "LanguageWantToWorkWith          [Bash/Shell, C++, HTML/CSS, JavaScript, Node.j...\n",
       "DatabaseHaveWorkedWith                 [Microsoft SQL Server, PostgreSQL, SQLite]\n",
       "DatabaseWantToWorkWith                                       [PostgreSQL, SQLite]\n",
       "PlatformHaveWorkedWith                                  [Heroku, Microsoft Azure]\n",
       "PlatformWantToWorkWith                                  [Heroku, Microsoft Azure]\n",
       "WebframeHaveWorkedWith                                           [Django, jQuery]\n",
       "WebframeWantToWorkWith                                 [Django, jQuery, React.js]\n",
       "MiscTechHaveWorkedWith                             [NumPy, Pandas, Torch/PyTorch]\n",
       "MiscTechWantToWorkWith          [Hadoop, Keras, NumPy, Pandas, React Native, T...\n",
       "ToolsTechHaveWorkedWith                                             [Docker, Git]\n",
       "ToolsTechWantToWorkWith                                 [Docker, Git, Kubernetes]\n",
       "NEWCollabToolsHaveWorkedWith    [Atom, IPython/Jupyter, PyCharm, RStudio, Subl...\n",
       "NEWCollabToolsWantToWorkWith    [PyCharm, RStudio, Sublime Text, Visual Studio...\n",
       "OpSys                                                                     Windows\n",
       "NEWStuck                        [Visit Stack Overflow, Google it, Watch help /...\n",
       "NEWSOSites                                       [Stack Overflow, Stack Exchange]\n",
       "SOVisitFreq                                                  A few times per week\n",
       "SOAccount                                                                     Yes\n",
       "SOPartFreq                                        A few times per month or weekly\n",
       "SOComm                                                              Yes, somewhat\n",
       "NEWOtherComms                                                                 Yes\n",
       "Age                                                               25-34 years old\n",
       "Gender                                                                      [Man]\n",
       "Trans                                                           Prefer not to say\n",
       "Sexuality                                                                      []\n",
       "Ethnicity                                                                      []\n",
       "Accessibility                                                 [None of the above]\n",
       "MentalHealth                                                                   []\n",
       "SurveyLength                                                Appropriate in length\n",
       "SurveyEase                                                                   Easy\n",
       "ConvertedCompYearly                                                       70264.0\n",
       "Name: 7889, dtype: object"
      ]
     },
     "execution_count": 247,
     "metadata": {},
     "output_type": "execute_result"
    }
   ],
   "source": [
    "df.sample(1).iloc[0]"
   ]
  },
  {
   "cell_type": "code",
   "execution_count": 262,
   "metadata": {},
   "outputs": [
    {
     "data": {
      "text/plain": [
       "'dataframe.pkl'"
      ]
     },
     "execution_count": 262,
     "metadata": {},
     "output_type": "execute_result"
    }
   ],
   "source": [
    "EXPORT_PATH=\"dataframe.pkl\"\n",
    "df.to_pickle(EXPORT_PATH)\n",
    "EXPORT_PATH"
   ]
  },
  {
   "cell_type": "code",
   "execution_count": 264,
   "metadata": {},
   "outputs": [
    {
     "data": {
      "text/plain": [
       "'dataframe.pkl'"
      ]
     },
     "execution_count": 264,
     "metadata": {},
     "output_type": "execute_result"
    }
   ],
   "source": [
    "EXPORT_PATH"
   ]
  },
  {
   "cell_type": "code",
   "execution_count": null,
   "metadata": {},
   "outputs": [],
   "source": []
  }
 ],
 "metadata": {
  "kernelspec": {
   "display_name": "base",
   "language": "python",
   "name": "python3"
  },
  "language_info": {
   "codemirror_mode": {
    "name": "ipython",
    "version": 3
   },
   "file_extension": ".py",
   "mimetype": "text/x-python",
   "name": "python",
   "nbconvert_exporter": "python",
   "pygments_lexer": "ipython3",
   "version": "3.11.5"
  }
 },
 "nbformat": 4,
 "nbformat_minor": 2
}
